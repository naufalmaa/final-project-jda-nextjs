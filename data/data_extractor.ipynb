import pandas as pd
from bs4 import BeautifulSoup

with open("data_sekolah.txt", "r", encoding="utf-8") as f:
    soup = BeautifulSoup(f, "html.parser")

# Ambil semua baris <tr>
rows = soup.find_all("tr")

# Siapkan hasil
data = []

for row in rows:
    cols = row.find_all("td")
    if len(cols) >= 2:
        nama = cols[0].text.strip()
        button = cols[1].find("button")
        if button:
            lat = button.get("data-sklat")
            lng = button.get("data-sklng")
            data.append([nama, lat, lng])

# Simpan dengan pandas
df = pd.DataFrame(data, columns=["nama_SD", "data_sklat", "data_sklong"])
df.to_csv("data_sd_extracted.csv", index=False)
