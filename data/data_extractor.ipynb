{
 "cells": [
  {
   "cell_type": "code",
   "execution_count": 6,
   "id": "2cf5b40b",
   "metadata": {},
   "outputs": [
    {
     "name": "stdout",
     "output_type": "stream",
     "text": [
      "✅ Data berhasil disimpan ke data_sd_lengkap.csv\n"
     ]
    }
   ],
   "source": [
    "from bs4 import BeautifulSoup\n",
    "import pandas as pd\n",
    "\n",
    "# Buka file HTML\n",
    "with open(\"data_sekolah.txt\", \"r\", encoding=\"utf-8\") as f:\n",
    "    soup = BeautifulSoup(f, \"html.parser\")\n",
    "\n",
    "# Ambil semua baris data <tr>\n",
    "rows = soup.find_all(\"tr\")\n",
    "\n",
    "data = []\n",
    "for row in rows:\n",
    "    cols = row.find_all(\"td\")\n",
    "    if len(cols) >= 9:\n",
    "        try:\n",
    "            nama = cols[0].text.strip()\n",
    "            button = cols[1].find(\"button\")\n",
    "            skl_lat = button.get(\"data-sklat\") if button else \"\"\n",
    "            skl_lng = button.get(\"data-sklng\") if button else \"\"\n",
    "            status = cols[2].text.strip()\n",
    "            npsn = cols[3].text.strip()\n",
    "            bentuk = cols[4].text.strip()\n",
    "            telp = cols[5].text.strip()\n",
    "            alamat = cols[6].text.strip()\n",
    "            kelurahan = cols[7].text.strip()\n",
    "            kecamatan = cols[8].text.strip()\n",
    "\n",
    "            data.append([nama, skl_lat, skl_lng, status, npsn, bentuk, telp, alamat, kelurahan, kecamatan])\n",
    "        except:\n",
    "            continue  # Lewati jika ada struktur yang tidak lengkap\n",
    "\n",
    "# Buat DataFrame\n",
    "df = pd.DataFrame(data, columns=[\n",
    "    \"name\", \"lat\", \"long\", \"status\", \"npsn\",\n",
    "    \"bentuk\", \"telp\", \"alamat\", \"kelurahan\", \"kecamatan\"\n",
    "])\n",
    "\n",
    "# name\tstatus\tnpsn\tbentuk\ttelp\talamat\tkelurahan\tkecamatan\tlat\tlong\n",
    "\n",
    "\n",
    "# Simpan ke CSV\n",
    "# df.to_csv(\"data_sd_lengkap.csv\", index=False, encoding=\"utf-8\")\n",
    "\n",
    "df.to_csv(\"data_sd_lengkap.csv\", index=False, encoding=\"utf-8\")\n",
    "print(\"✅ Data berhasil disimpan ke data_sd_lengkap.csv\")\n",
    "\n"
   ]
  }
 ],
 "metadata": {
  "kernelspec": {
   "display_name": "data_analysis_py310",
   "language": "python",
   "name": "python3"
  },
  "language_info": {
   "codemirror_mode": {
    "name": "ipython",
    "version": 3
   },
   "file_extension": ".py",
   "mimetype": "text/x-python",
   "name": "python",
   "nbconvert_exporter": "python",
   "pygments_lexer": "ipython3",
   "version": "3.10.15"
  }
 },
 "nbformat": 4,
 "nbformat_minor": 5
}
